{
  "nbformat": 4,
  "nbformat_minor": 0,
  "metadata": {
    "colab": {
      "name": "Untitled3.ipynb",
      "provenance": [],
      "authorship_tag": "ABX9TyNFmOAami54rxt0nMMN4AEO",
      "include_colab_link": true
    },
    "kernelspec": {
      "name": "python3",
      "display_name": "Python 3"
    },
    "language_info": {
      "name": "python"
    }
  },
  "cells": [
    {
      "cell_type": "markdown",
      "metadata": {
        "id": "view-in-github",
        "colab_type": "text"
      },
      "source": [
        "<a href=\"https://colab.research.google.com/github/wogur9503/AndroidGoogleMap/blob/master/TTestChiSquaredTestPrac.ipynb\" target=\"_parent\"><img src=\"https://colab.research.google.com/assets/colab-badge.svg\" alt=\"Open In Colab\"/></a>"
      ]
    },
    {
      "cell_type": "markdown",
      "metadata": {
        "id": "iZrhO0lnIMR2"
      },
      "source": [
        "## 펭귄 데이터 이용한 데이터 검증 연습"
      ]
    },
    {
      "cell_type": "markdown",
      "metadata": {
        "id": "GQMIqSSGJVd7"
      },
      "source": [
        "데이터셋 준비"
      ]
    },
    {
      "cell_type": "code",
      "metadata": {
        "colab": {
          "base_uri": "https://localhost:8080/",
          "height": 419
        },
        "id": "MUw3v1iJIU3G",
        "outputId": "d385e703-3c66-455e-c60d-af9c3ca50383"
      },
      "source": [
        "import pandas as pd\n",
        "import numpy as np\n",
        "import seaborn as sns\n",
        "from scipy import stats\n",
        "\n",
        "# 데이터셋 불러오기\n",
        "df = sns.load_dataset(\"penguins\")\n",
        "df = df.dropna()\n",
        "\n",
        "df = df.rename(columns={\"species\":\"species\", \"island\":\"island\", \"bill_length_mm\":\"bill_length\", \"bill_depth_mm\":\"bill_depth\",\n",
        "                        \"flipper_length_mm\":\"flipper_length\", \"body_mass_g\":\"body_mass\", \"sex\":\"sex\"})\n",
        "#species : 펭귄의 종 (Adelie, Chinstrap, Gentoo)\n",
        "#island : 살고 있는 섬 이름 (Torgersen, Dream, Biscoe)\n",
        "#bill_length : 부리의 길이 (단위: mm)\n",
        "#bill_depth : 부리의 깊이 (단위: mm)\n",
        "#flipper_length : 플리퍼(≒ 날개)의 길이 (단위: mm)\n",
        "#body_mass : 체질량 (단위: g)\n",
        "#sex : 성별 (MALE, FEMALE)\n",
        "df"
      ],
      "execution_count": 2,
      "outputs": [
        {
          "output_type": "execute_result",
          "data": {
            "text/html": [
              "<div>\n",
              "<style scoped>\n",
              "    .dataframe tbody tr th:only-of-type {\n",
              "        vertical-align: middle;\n",
              "    }\n",
              "\n",
              "    .dataframe tbody tr th {\n",
              "        vertical-align: top;\n",
              "    }\n",
              "\n",
              "    .dataframe thead th {\n",
              "        text-align: right;\n",
              "    }\n",
              "</style>\n",
              "<table border=\"1\" class=\"dataframe\">\n",
              "  <thead>\n",
              "    <tr style=\"text-align: right;\">\n",
              "      <th></th>\n",
              "      <th>species</th>\n",
              "      <th>island</th>\n",
              "      <th>bill_length</th>\n",
              "      <th>bill_depth</th>\n",
              "      <th>flipper_length</th>\n",
              "      <th>body_mass</th>\n",
              "      <th>sex</th>\n",
              "    </tr>\n",
              "  </thead>\n",
              "  <tbody>\n",
              "    <tr>\n",
              "      <th>0</th>\n",
              "      <td>Adelie</td>\n",
              "      <td>Torgersen</td>\n",
              "      <td>39.1</td>\n",
              "      <td>18.7</td>\n",
              "      <td>181.0</td>\n",
              "      <td>3750.0</td>\n",
              "      <td>Male</td>\n",
              "    </tr>\n",
              "    <tr>\n",
              "      <th>1</th>\n",
              "      <td>Adelie</td>\n",
              "      <td>Torgersen</td>\n",
              "      <td>39.5</td>\n",
              "      <td>17.4</td>\n",
              "      <td>186.0</td>\n",
              "      <td>3800.0</td>\n",
              "      <td>Female</td>\n",
              "    </tr>\n",
              "    <tr>\n",
              "      <th>2</th>\n",
              "      <td>Adelie</td>\n",
              "      <td>Torgersen</td>\n",
              "      <td>40.3</td>\n",
              "      <td>18.0</td>\n",
              "      <td>195.0</td>\n",
              "      <td>3250.0</td>\n",
              "      <td>Female</td>\n",
              "    </tr>\n",
              "    <tr>\n",
              "      <th>4</th>\n",
              "      <td>Adelie</td>\n",
              "      <td>Torgersen</td>\n",
              "      <td>36.7</td>\n",
              "      <td>19.3</td>\n",
              "      <td>193.0</td>\n",
              "      <td>3450.0</td>\n",
              "      <td>Female</td>\n",
              "    </tr>\n",
              "    <tr>\n",
              "      <th>5</th>\n",
              "      <td>Adelie</td>\n",
              "      <td>Torgersen</td>\n",
              "      <td>39.3</td>\n",
              "      <td>20.6</td>\n",
              "      <td>190.0</td>\n",
              "      <td>3650.0</td>\n",
              "      <td>Male</td>\n",
              "    </tr>\n",
              "    <tr>\n",
              "      <th>...</th>\n",
              "      <td>...</td>\n",
              "      <td>...</td>\n",
              "      <td>...</td>\n",
              "      <td>...</td>\n",
              "      <td>...</td>\n",
              "      <td>...</td>\n",
              "      <td>...</td>\n",
              "    </tr>\n",
              "    <tr>\n",
              "      <th>338</th>\n",
              "      <td>Gentoo</td>\n",
              "      <td>Biscoe</td>\n",
              "      <td>47.2</td>\n",
              "      <td>13.7</td>\n",
              "      <td>214.0</td>\n",
              "      <td>4925.0</td>\n",
              "      <td>Female</td>\n",
              "    </tr>\n",
              "    <tr>\n",
              "      <th>340</th>\n",
              "      <td>Gentoo</td>\n",
              "      <td>Biscoe</td>\n",
              "      <td>46.8</td>\n",
              "      <td>14.3</td>\n",
              "      <td>215.0</td>\n",
              "      <td>4850.0</td>\n",
              "      <td>Female</td>\n",
              "    </tr>\n",
              "    <tr>\n",
              "      <th>341</th>\n",
              "      <td>Gentoo</td>\n",
              "      <td>Biscoe</td>\n",
              "      <td>50.4</td>\n",
              "      <td>15.7</td>\n",
              "      <td>222.0</td>\n",
              "      <td>5750.0</td>\n",
              "      <td>Male</td>\n",
              "    </tr>\n",
              "    <tr>\n",
              "      <th>342</th>\n",
              "      <td>Gentoo</td>\n",
              "      <td>Biscoe</td>\n",
              "      <td>45.2</td>\n",
              "      <td>14.8</td>\n",
              "      <td>212.0</td>\n",
              "      <td>5200.0</td>\n",
              "      <td>Female</td>\n",
              "    </tr>\n",
              "    <tr>\n",
              "      <th>343</th>\n",
              "      <td>Gentoo</td>\n",
              "      <td>Biscoe</td>\n",
              "      <td>49.9</td>\n",
              "      <td>16.1</td>\n",
              "      <td>213.0</td>\n",
              "      <td>5400.0</td>\n",
              "      <td>Male</td>\n",
              "    </tr>\n",
              "  </tbody>\n",
              "</table>\n",
              "<p>333 rows × 7 columns</p>\n",
              "</div>"
            ],
            "text/plain": [
              "    species     island  bill_length  ...  flipper_length  body_mass     sex\n",
              "0    Adelie  Torgersen         39.1  ...           181.0     3750.0    Male\n",
              "1    Adelie  Torgersen         39.5  ...           186.0     3800.0  Female\n",
              "2    Adelie  Torgersen         40.3  ...           195.0     3250.0  Female\n",
              "4    Adelie  Torgersen         36.7  ...           193.0     3450.0  Female\n",
              "5    Adelie  Torgersen         39.3  ...           190.0     3650.0    Male\n",
              "..      ...        ...          ...  ...             ...        ...     ...\n",
              "338  Gentoo     Biscoe         47.2  ...           214.0     4925.0  Female\n",
              "340  Gentoo     Biscoe         46.8  ...           215.0     4850.0  Female\n",
              "341  Gentoo     Biscoe         50.4  ...           222.0     5750.0    Male\n",
              "342  Gentoo     Biscoe         45.2  ...           212.0     5200.0  Female\n",
              "343  Gentoo     Biscoe         49.9  ...           213.0     5400.0    Male\n",
              "\n",
              "[333 rows x 7 columns]"
            ]
          },
          "metadata": {},
          "execution_count": 2
        }
      ]
    },
    {
      "cell_type": "markdown",
      "metadata": {
        "id": "Or9Psp2bJLdz"
      },
      "source": [
        "## T-test"
      ]
    },
    {
      "cell_type": "markdown",
      "metadata": {
        "id": "aKlZcYFwJc7p"
      },
      "source": [
        "### one sample T-test : 표본집단의 평균이 특정 값인지 추정할 때 사용한다.\n",
        "\n",
        "*   귀무가설 : Adelie 펭귄의 평균 몸무게는 8kg일 것이다.\n",
        "*   대립가설 : Adelie 펭귄의 평균 몸무게는 8kg이 아닐 것이다.\n",
        "*   신뢰도 : 95%\n",
        "\n",
        "\n",
        "\n",
        "\n",
        "\n",
        "\n",
        "\n",
        "\n",
        "\n",
        "\n",
        "\n",
        "\n",
        "\n"
      ]
    },
    {
      "cell_type": "code",
      "metadata": {
        "colab": {
          "base_uri": "https://localhost:8080/"
        },
        "id": "X59HwR8_Izj2",
        "outputId": "a0dd7b6b-93f8-4e80-b990-9fed6b6ef687"
      },
      "source": [
        "adelie = df[df['species'] == 'Adelie']['body_mass']\n",
        "stats.ttest_1samp(adelie, 8000)"
      ],
      "execution_count": 3,
      "outputs": [
        {
          "output_type": "execute_result",
          "data": {
            "text/plain": [
              "Ttest_1sampResult(statistic=-113.12763925848728, pvalue=2.511309970725206e-143)"
            ]
          },
          "metadata": {},
          "execution_count": 3
        }
      ]
    },
    {
      "cell_type": "markdown",
      "metadata": {
        "id": "VjsxXAEnNLEu"
      },
      "source": [
        "pvalue가 0.05보다 작기 대문에 대립가설을 채택한다.\n",
        "즉, 아델리 펭귄의 몸무게는 8kg이 아니다."
      ]
    },
    {
      "cell_type": "markdown",
      "metadata": {
        "id": "UyuheI3INaM2"
      },
      "source": [
        "### 다음 가설\n",
        "\n",
        "*   귀무가설: Adelie 펭귄의 평균 몸무게는 3.72kg일 것이다.\n",
        "*   대립가설 : Adelie 펭귄의 평균 몸무게는 3.72이 아닐 것이다.\n",
        "*   신뢰도 : 95%"
      ]
    },
    {
      "cell_type": "code",
      "metadata": {
        "colab": {
          "base_uri": "https://localhost:8080/"
        },
        "id": "C8gR5MgzM96s",
        "outputId": "f59b801c-a9d4-4b41-cf16-1da1d6fc9485"
      },
      "source": [
        "stats.ttest_1samp(adelie, 3720)"
      ],
      "execution_count": 4,
      "outputs": [
        {
          "output_type": "execute_result",
          "data": {
            "text/plain": [
              "Ttest_1sampResult(statistic=-0.36452038810359905, pvalue=0.7160005111390735)"
            ]
          },
          "metadata": {},
          "execution_count": 4
        }
      ]
    },
    {
      "cell_type": "markdown",
      "metadata": {
        "id": "FMPKTx89Ny3P"
      },
      "source": [
        "pvalue가 0.05보다 크기 때문에 귀무가설을 기각할 수 없다.\n",
        "즉, 아델리 펭귄의 평균 몸무게는 3.72kg이다."
      ]
    },
    {
      "cell_type": "markdown",
      "metadata": {
        "id": "a5YBjH38OHga"
      },
      "source": [
        "### two sample T-test : 표본집단 A와 표본집단 B의 평균을 비교할 때 사용한다.\n",
        "표본집단의 평균을 비교한다는 점에서 one sample test와 같지만, one sample T-test는 해당 표본집단의 평균과 특정 값을 비교할 때 쓴다는 점에서 다르다. \n",
        "\n",
        "*   귀무가설 : Adelie 펭귄의 평균 부리 깊이와 Gentoo 펭귄의 평균 부리 깊이는 같다.\n",
        "*   대립가설 : Adelie 펭귄의 평균 부리 깊이와 Gentoo 펭귄의 평균 부리 깊이는 같지 않다.\n",
        "*   신뢰도 : 95%"
      ]
    },
    {
      "cell_type": "code",
      "metadata": {
        "colab": {
          "base_uri": "https://localhost:8080/"
        },
        "id": "9SaKUIfYNsj7",
        "outputId": "00862035-3669-4dd3-9858-873aaa45a6c1"
      },
      "source": [
        "adelie = df[df['species'] == 'Adelie']['bill_depth']\n",
        "gentoo = df[df['species'] == 'Gentoo']['bill_depth']\n",
        "stats.ttest_ind(adelie, gentoo)"
      ],
      "execution_count": 5,
      "outputs": [
        {
          "output_type": "execute_result",
          "data": {
            "text/plain": [
              "Ttest_indResult(statistic=24.208855744860315, pvalue=6.91055572279657e-69)"
            ]
          },
          "metadata": {},
          "execution_count": 5
        }
      ]
    },
    {
      "cell_type": "markdown",
      "metadata": {
        "id": "euv0xTM1PG4m"
      },
      "source": [
        "pvalue가 0.05보다 작기 때문에 대립가설을 채택한다.\n",
        "즉, 아델리, 젠투의 평균 부리 깊이는 다르다."
      ]
    },
    {
      "cell_type": "markdown",
      "metadata": {
        "id": "xSESJ0OmPWH7"
      },
      "source": [
        "다음가설\n",
        "*   귀무가설 : Adelie 펭귄의 평균 부리 깊이와 Chinstrap 펭귄의 평균 부리 깊이는 같다.\n",
        "*   대립가설 : Adelie 펭귄의 평균 부리 깊이와 Chinstrap 펭귄의 평균 부리 깊이는 같지 않다.\n",
        "*   신뢰도 : 95%\n",
        "\n"
      ]
    },
    {
      "cell_type": "code",
      "metadata": {
        "colab": {
          "base_uri": "https://localhost:8080/"
        },
        "id": "l-v08bvRPBYo",
        "outputId": "297fe8b3-060b-4c98-b4a4-0cbe367fdfb4"
      },
      "source": [
        "adelie = df[df['species'] == 'Adelie']['bill_depth']\n",
        "chinstrap = df[df['species'] == 'Chinstrap']['bill_depth']\n",
        "stats.ttest_ind(adelie, chinstrap)"
      ],
      "execution_count": 7,
      "outputs": [
        {
          "output_type": "execute_result",
          "data": {
            "text/plain": [
              "Ttest_indResult(statistic=-0.41849509118137584, pvalue=0.6760088132938111)"
            ]
          },
          "metadata": {},
          "execution_count": 7
        }
      ]
    },
    {
      "cell_type": "markdown",
      "metadata": {
        "id": "fSJPXAkKP2Gh"
      },
      "source": [
        "pvalue가 0.05보다 크기 때문에 귀무가설을 채택한다.\n",
        "즉, 두 펭귄의 평균 부리길이는 같다."
      ]
    },
    {
      "cell_type": "markdown",
      "metadata": {
        "id": "ubC8RuiIQKbT"
      },
      "source": [
        "## Chi-squared test (카이제곱 검정)\n",
        "\n",
        "T-test는 표본집단의 평균을 비교할 때 선택하는 방법이라면,\n",
        "Chi-squared test는 **표본집단의 분포를 비교할 때 선택**하는 방법이다.\n",
        "\n"
      ]
    },
    {
      "cell_type": "markdown",
      "metadata": {
        "id": "W7As0ztjQNb3"
      },
      "source": [
        "### one sample Chi-squared test\n",
        "one sample Chi-squared test는 \"이 주사위는 공평한 주사위이다.\"에 대한 검정처럼, 데이터의 분포가 예상과 같은지 확인할 때 사용한다.\n",
        "\n",
        "*   귀무가설 : 펭귄의 성비는 1:1일 것이다.\n",
        "*   대립가설 : 펭귄의 성비는 1:1이 아닐 것이다.\n",
        "*   신뢰도 : 95%"
      ]
    },
    {
      "cell_type": "code",
      "metadata": {
        "colab": {
          "base_uri": "https://localhost:8080/"
        },
        "id": "OmfRwy9-QM4u",
        "outputId": "117a5455-3ff6-4215-8b57-2ed38fd11e08"
      },
      "source": [
        "male = df['sex'].value_counts()['Male']\n",
        "female = df['sex'].value_counts()['Female']\n",
        "exp = len(df)/2 # 전체 길이의 2분의 1, 성비가 완벽한 1:1일 때의 가정\n",
        "stats.chisquare(f_obs=[male, female], f_exp=[exp, exp])"
      ],
      "execution_count": 11,
      "outputs": [
        {
          "output_type": "execute_result",
          "data": {
            "text/plain": [
              "Power_divergenceResult(statistic=0.02702702702702703, pvalue=0.8694170607412391)"
            ]
          },
          "metadata": {},
          "execution_count": 11
        }
      ]
    },
    {
      "cell_type": "markdown",
      "metadata": {
        "id": "fbXX_hCjRlll"
      },
      "source": [
        "높은 pvalue가 나왔으므로, 귀무가설을 채택한다."
      ]
    },
    {
      "cell_type": "markdown",
      "metadata": {
        "id": "2ln9UDrfRsMW"
      },
      "source": [
        "### two sample Chi-squared test\n",
        "two sample Chi-squared test는 두 표본집단의 분포가 동일한지 확인할 때 사용한다. *즉, 두 표본집단이 연관이 있는지, 없는지를 확인할 수 있다.*\n",
        "\n",
        "펭귄의 몸무게와 플리퍼 길이는 관련이 있지 않을까? two sample Chi-squared test를 사용하면 \"펭귄의 몸무게와 플리퍼 길이는 독립이다.\"라는 가설을 검정할 수 있다. 단, 여기서 주의해야 할 점은 Chi-squared test는 categorical data에만 사용할 수 있다는 점이다. 우리가 가지고 있는 데이터셋에서는 펭귄의 몸무게와 플리퍼 길이가 continuous data이다. 따라서 펭귄의 몸무게와 플리퍼 길이에 대한 Chi-squared test를 시행하려면 먼저 데이터를 categorical data로 바꿔줘야 한다.\n",
        "\n",
        "*   귀무가설 : 펭귄의 몸무게와 플리퍼 길이는 연관이 없다.\n",
        "*   대립가설 : 펭귄의 몸무게와 플리퍼 길이는 연관이 있다.\n",
        "*   신뢰도 : 95%"
      ]
    },
    {
      "cell_type": "code",
      "metadata": {
        "colab": {
          "base_uri": "https://localhost:8080/",
          "height": 142
        },
        "id": "RQwpVCfkRMhV",
        "outputId": "5157fd6d-8446-44b9-92c6-3e62a1b18e87"
      },
      "source": [
        "mass_cut = pd.cut(df['body_mass'], 3).astype('category') # 몸무게 데이터를 동일 길이로 3등분한다.\n",
        "flipper_cut = pd.cut(df['flipper_length'], 3).astype('category') # 플리퍼 데이터를 동일 길이로 3등분한다.\n",
        "data = pd.crosstab(mass_cut, flipper_cut)\n",
        "data.columns = ['Short', 'Middle', 'Long']\n",
        "data.index = ['Light', 'Middle', 'Heavy']\n",
        "data"
      ],
      "execution_count": 13,
      "outputs": [
        {
          "output_type": "execute_result",
          "data": {
            "text/html": [
              "<div>\n",
              "<style scoped>\n",
              "    .dataframe tbody tr th:only-of-type {\n",
              "        vertical-align: middle;\n",
              "    }\n",
              "\n",
              "    .dataframe tbody tr th {\n",
              "        vertical-align: top;\n",
              "    }\n",
              "\n",
              "    .dataframe thead th {\n",
              "        text-align: right;\n",
              "    }\n",
              "</style>\n",
              "<table border=\"1\" class=\"dataframe\">\n",
              "  <thead>\n",
              "    <tr style=\"text-align: right;\">\n",
              "      <th></th>\n",
              "      <th>Short</th>\n",
              "      <th>Middle</th>\n",
              "      <th>Long</th>\n",
              "    </tr>\n",
              "  </thead>\n",
              "  <tbody>\n",
              "    <tr>\n",
              "      <th>Light</th>\n",
              "      <td>95</td>\n",
              "      <td>55</td>\n",
              "      <td>0</td>\n",
              "    </tr>\n",
              "    <tr>\n",
              "      <th>Middle</th>\n",
              "      <td>13</td>\n",
              "      <td>74</td>\n",
              "      <td>41</td>\n",
              "    </tr>\n",
              "    <tr>\n",
              "      <th>Heavy</th>\n",
              "      <td>0</td>\n",
              "      <td>2</td>\n",
              "      <td>53</td>\n",
              "    </tr>\n",
              "  </tbody>\n",
              "</table>\n",
              "</div>"
            ],
            "text/plain": [
              "        Short  Middle  Long\n",
              "Light      95      55     0\n",
              "Middle     13      74    41\n",
              "Heavy       0       2    53"
            ]
          },
          "metadata": {},
          "execution_count": 13
        }
      ]
    },
    {
      "cell_type": "code",
      "metadata": {
        "colab": {
          "base_uri": "https://localhost:8080/"
        },
        "id": "evnsvPnTTNKK",
        "outputId": "8a3dba0d-7db5-4d8f-ad14-8bf0fd12a095"
      },
      "source": [
        "chi, pvalue, _, _ = stats.chi2_contingency(data, correction=False)\n",
        "chi, pvalue"
      ],
      "execution_count": 16,
      "outputs": [
        {
          "output_type": "execute_result",
          "data": {
            "text/plain": [
              "(244.23390701043138, 1.1365768507791132e-51)"
            ]
          },
          "metadata": {},
          "execution_count": 16
        }
      ]
    },
    {
      "cell_type": "markdown",
      "metadata": {
        "id": "Rqi5B5vNTkbw"
      },
      "source": [
        "pvalue가 0.05보다 작으므로 대립가설을 채택한다.\n",
        "즉, 몸무게와 플리퍼의 길이는 연관이 있다.\n",
        "\n",
        "이처럼 two sample Chi-squared test의 귀무가설은 \"두 변수는 연관이 없다(두 변수는 독립이다).\"이다. 이에 대한 대립가설은 \"두 변수는 연관이 있다(두 변수는 독립이 아니다).\"이다. 그리고 신뢰도가 95%라는 전제하에 p-value가 0.05보다 작으면 귀무가설을 기각하고 대립가설을 채택하며, 0.05보다 크면 귀무가설을 기각할 수 없다."
      ]
    },
    {
      "cell_type": "code",
      "metadata": {
        "id": "I5-QO697TiQd"
      },
      "source": [
        ""
      ],
      "execution_count": null,
      "outputs": []
    }
  ]
}