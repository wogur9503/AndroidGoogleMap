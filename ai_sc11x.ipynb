{
  "nbformat": 4,
  "nbformat_minor": 0,
  "metadata": {
    "colab": {
      "name": "ai-sc11x.ipynb",
      "provenance": [],
      "collapsed_sections": [],
      "include_colab_link": true
    },
    "kernelspec": {
      "display_name": "Python 3",
      "language": "python",
      "name": "python3"
    },
    "language_info": {
      "codemirror_mode": {
        "name": "ipython",
        "version": 3
      },
      "file_extension": ".py",
      "mimetype": "text/x-python",
      "name": "python",
      "nbconvert_exporter": "python",
      "pygments_lexer": "ipython3",
      "version": "3.9.4"
    }
  },
  "cells": [
    {
      "cell_type": "markdown",
      "metadata": {
        "id": "view-in-github",
        "colab_type": "text"
      },
      "source": [
        "<a href=\"https://colab.research.google.com/github/wogur9503/AndroidGoogleMap/blob/master/ai_sc11x.ipynb\" target=\"_parent\"><img src=\"https://colab.research.google.com/assets/colab-badge.svg\" alt=\"Open In Colab\"/></a>"
      ]
    },
    {
      "cell_type": "markdown",
      "metadata": {
        "id": "2kYJKHpXFbN2"
      },
      "source": [
        "# SC11x\n",
        "\n",
        "## Data Preprocessing & Exploratory Data Analysis"
      ]
    },
    {
      "cell_type": "markdown",
      "metadata": {
        "id": "qSvL3CeTFk9F"
      },
      "source": [
        "## Data Preprocessing\n",
        "\n",
        "이번 파트에서는 [Gapminder](https://www.gapminder.org/about-gapminder/)의 데이터를 다루게 됩니다.\n",
        "\n",
        "데이터는 3가지로 구성되어 있으며 description은 다음과 같습니다.\n",
        "\n",
        "- <https://ds-lecture-data.s3.ap-northeast-2.amazonaws.com/gapminder/data1.csv>\n",
        "- <https://ds-lecture-data.s3.ap-northeast-2.amazonaws.com/gapminder/data2.csv>\n",
        "- <https://ds-lecture-data.s3.ap-northeast-2.amazonaws.com/gapminder/data3.csv>\n",
        "\n",
        "### data1\n",
        "\n",
        "|geo|time|cell_phones_total|\n",
        "|:-:|:-:|:-:|\n",
        "|kor|2017|63658688|\n",
        "|kor|2018|66355778|\n",
        "|kor|2019|68892541|\n",
        "\n",
        "- 지역, 연도, 통화수\n",
        "\n",
        "### data2\n",
        "\n",
        "|geo|time|population|\n",
        "|:-:|:-:|:-:|\n",
        "|kor|2017|51096415|\n",
        "|kor|2018|51171706|\n",
        "|kor|2019|51225308|\n",
        "\n",
        "- 지역, 연도, 인구수\n",
        "\n",
        "### data3\n",
        "\n",
        "|geo|country|\n",
        "|:-:|:-:|\n",
        "|kor|South Korea|\n",
        "\n",
        "- 지역, 나라 이름"
      ]
    },
    {
      "cell_type": "markdown",
      "metadata": {
        "id": "_45iUXguF3cJ"
      },
      "source": [
        "### 1. Load and Explore the Data\n",
        "\n",
        "- 데이터셋을 데이터프레임으로 불러오세요.\n",
        "- 결측데이터를 확인하세요.\n",
        "- `time` vs `cell_phones_total`에 대해서 `scatter plot`을 그리세요.\n"
      ]
    },
    {
      "cell_type": "code",
      "metadata": {
        "id": "ewdGy4NfG9vA",
        "colab": {
          "base_uri": "https://localhost:8080/",
          "height": 304
        },
        "outputId": "49f45202-c8ed-4447-bdc0-7566ea88ee25"
      },
      "source": [
        "import pandas as pd\n",
        "import numpy as np\n",
        "from pandas import Series\n",
        "import matplotlib.pyplot as plt\n",
        "import seaborn as sns\n",
        "\n",
        "#불러와서 데이터 프레임화\n",
        "df1 = pd.read_csv('data1.csv') # geo, time, cellphonetotal\n",
        "df1 = df1.drop(df1.columns[0], axis=1)\n",
        "df2 = pd.read_csv('data2.csv') # geo, time, population\n",
        "df2 = df2.drop(df2.columns[0], axis=1)\n",
        "df3 = pd.read_csv('data3.csv') # geo, country\n",
        "df3 = df3.drop(df3.columns[0], axis=1)\n",
        "#결측치 확인\n",
        "df3.isnull().sum()\n",
        "\n",
        "#scatter plot 그리기\n",
        "plt.plot('time',  # x\n",
        "         'cell_phones_total',  # y\n",
        "         data=df1, \n",
        "         linestyle='none', \n",
        "         marker='o', \n",
        "         markersize=10,\n",
        "         color='blue', \n",
        "         alpha=0.5)\n",
        "plt.title('Scatter Plot of iris by matplotlib', fontsize=20)\n",
        "plt.xlabel('time', fontsize=14)\n",
        "plt.ylabel('cell_phones_total', fontsize=14)\n",
        "plt.show()\n",
        "\n"
      ],
      "execution_count": 213,
      "outputs": [
        {
          "output_type": "display_data",
          "data": {
            "image/png": "[encoded data removed]",
            "text/plain": [
              "<Figure size 432x288 with 1 Axes>"
            ]
          },
          "metadata": {
            "needs_background": "light"
          }
        }
      ]
    },
    {
      "cell_type": "markdown",
      "metadata": {
        "id": "IvJMtxmBI27k"
      },
      "source": [
        "### 2. Join data\n",
        "\n",
        "다음 데이터를 만드세요. (shape = 9568 * 5)\n",
        "\n",
        "|geo|time|cell_phones_total|population|country|\n",
        "|:-:|:-:|:-:|:-:|:-:|\n",
        "|abw|1960|0|54211|Aruba|\n",
        "|...|...|...|...|...|\n",
        "|zwe|2019|13195902.0|14645468|Zimbabwe|\n"
      ]
    },
    {
      "cell_type": "code",
      "metadata": {
        "id": "MFMA06QjG1KT",
        "colab": {
          "base_uri": "https://localhost:8080/",
          "height": 419
        },
        "outputId": "f811bdd4-44f2-4e27-b2e7-940f5ce7d003"
      },
      "source": [
        "df4 = pd.merge(df1, df2)\n",
        "df_jd = pd.merge(df4, df3)\n",
        "df_jd\n"
      ],
      "execution_count": 214,
      "outputs": [
        {
          "output_type": "execute_result",
          "data": {
            "text/html": [
              "<div>\n",
              "<style scoped>\n",
              "    .dataframe tbody tr th:only-of-type {\n",
              "        vertical-align: middle;\n",
              "    }\n",
              "\n",
              "    .dataframe tbody tr th {\n",
              "        vertical-align: top;\n",
              "    }\n",
              "\n",
              "    .dataframe thead th {\n",
              "        text-align: right;\n",
              "    }\n",
              "</style>\n",
              "<table border=\"1\" class=\"dataframe\">\n",
              "  <thead>\n",
              "    <tr style=\"text-align: right;\">\n",
              "      <th></th>\n",
              "      <th>geo</th>\n",
              "      <th>time</th>\n",
              "      <th>cell_phones_total</th>\n",
              "      <th>population</th>\n",
              "      <th>country</th>\n",
              "    </tr>\n",
              "  </thead>\n",
              "  <tbody>\n",
              "    <tr>\n",
              "      <th>0</th>\n",
              "      <td>abw</td>\n",
              "      <td>1960</td>\n",
              "      <td>0.0</td>\n",
              "      <td>54211</td>\n",
              "      <td>Aruba</td>\n",
              "    </tr>\n",
              "    <tr>\n",
              "      <th>1</th>\n",
              "      <td>abw</td>\n",
              "      <td>1965</td>\n",
              "      <td>0.0</td>\n",
              "      <td>57360</td>\n",
              "      <td>Aruba</td>\n",
              "    </tr>\n",
              "    <tr>\n",
              "      <th>2</th>\n",
              "      <td>abw</td>\n",
              "      <td>1970</td>\n",
              "      <td>0.0</td>\n",
              "      <td>59063</td>\n",
              "      <td>Aruba</td>\n",
              "    </tr>\n",
              "    <tr>\n",
              "      <th>3</th>\n",
              "      <td>abw</td>\n",
              "      <td>1975</td>\n",
              "      <td>0.0</td>\n",
              "      <td>60657</td>\n",
              "      <td>Aruba</td>\n",
              "    </tr>\n",
              "    <tr>\n",
              "      <th>4</th>\n",
              "      <td>abw</td>\n",
              "      <td>1976</td>\n",
              "      <td>0.0</td>\n",
              "      <td>60586</td>\n",
              "      <td>Aruba</td>\n",
              "    </tr>\n",
              "    <tr>\n",
              "      <th>...</th>\n",
              "      <td>...</td>\n",
              "      <td>...</td>\n",
              "      <td>...</td>\n",
              "      <td>...</td>\n",
              "      <td>...</td>\n",
              "    </tr>\n",
              "    <tr>\n",
              "      <th>9563</th>\n",
              "      <td>zwe</td>\n",
              "      <td>2015</td>\n",
              "      <td>12757410.0</td>\n",
              "      <td>13814629</td>\n",
              "      <td>Zimbabwe</td>\n",
              "    </tr>\n",
              "    <tr>\n",
              "      <th>9564</th>\n",
              "      <td>zwe</td>\n",
              "      <td>2016</td>\n",
              "      <td>12878926.0</td>\n",
              "      <td>14030331</td>\n",
              "      <td>Zimbabwe</td>\n",
              "    </tr>\n",
              "    <tr>\n",
              "      <th>9565</th>\n",
              "      <td>zwe</td>\n",
              "      <td>2017</td>\n",
              "      <td>14092104.0</td>\n",
              "      <td>14236595</td>\n",
              "      <td>Zimbabwe</td>\n",
              "    </tr>\n",
              "    <tr>\n",
              "      <th>9566</th>\n",
              "      <td>zwe</td>\n",
              "      <td>2018</td>\n",
              "      <td>12908992.0</td>\n",
              "      <td>14438802</td>\n",
              "      <td>Zimbabwe</td>\n",
              "    </tr>\n",
              "    <tr>\n",
              "      <th>9567</th>\n",
              "      <td>zwe</td>\n",
              "      <td>2019</td>\n",
              "      <td>13195902.0</td>\n",
              "      <td>14645468</td>\n",
              "      <td>Zimbabwe</td>\n",
              "    </tr>\n",
              "  </tbody>\n",
              "</table>\n",
              "<p>9568 rows × 5 columns</p>\n",
              "</div>"
            ],
            "text/plain": [
              "      geo  time  cell_phones_total  population   country\n",
              "0     abw  1960                0.0       54211     Aruba\n",
              "1     abw  1965                0.0       57360     Aruba\n",
              "2     abw  1970                0.0       59063     Aruba\n",
              "3     abw  1975                0.0       60657     Aruba\n",
              "4     abw  1976                0.0       60586     Aruba\n",
              "...   ...   ...                ...         ...       ...\n",
              "9563  zwe  2015         12757410.0    13814629  Zimbabwe\n",
              "9564  zwe  2016         12878926.0    14030331  Zimbabwe\n",
              "9565  zwe  2017         14092104.0    14236595  Zimbabwe\n",
              "9566  zwe  2018         12908992.0    14438802  Zimbabwe\n",
              "9567  zwe  2019         13195902.0    14645468  Zimbabwe\n",
              "\n",
              "[9568 rows x 5 columns]"
            ]
          },
          "metadata": {},
          "execution_count": 214
        }
      ]
    },
    {
      "cell_type": "markdown",
      "metadata": {
        "id": "8xjRfkOjKECI"
      },
      "source": [
        "### 3. Feature Engineering\n",
        "\n",
        "인구당 cell phone의 수를 표기한 `PPP`라는 feature를 추가하세요. \n",
        "\n",
        "그 결과로 2019년 한국에서 PPP가 1.3448이 나와야 합니다. (해당 내역을 보여주세요.)"
      ]
    },
    {
      "cell_type": "code",
      "metadata": {
        "id": "v_bH-SdgQ3O_",
        "colab": {
          "base_uri": "https://localhost:8080/",
          "height": 80
        },
        "outputId": "5c2817d2-a000-42ac-90d1-2d80561bcd12"
      },
      "source": [
        "# ppp = cell_phones_total / population\n",
        "df_jd['ppp'] = df_jd['cell_phones_total'] / df_jd['population']\n",
        "\n",
        "# country 컬럼을 선택합니다.\n",
        "# 컬럼의 값과 조건을 비교합니다.\n",
        "# 그 결과를 새로운 변수에 할당합니다.\n",
        "is_korea = df_jd['geo'] == 'kor'\n",
        "# 조건를 충족하는 데이터를 필터링하여 새로운 변수에 저장합니다.\n",
        "korea = df_jd[is_korea]\n",
        "# 결과를 출력합니다.\n",
        "korea[-1:]"
      ],
      "execution_count": 69,
      "outputs": [
        {
          "output_type": "execute_result",
          "data": {
            "text/html": [
              "<div>\n",
              "<style scoped>\n",
              "    .dataframe tbody tr th:only-of-type {\n",
              "        vertical-align: middle;\n",
              "    }\n",
              "\n",
              "    .dataframe tbody tr th {\n",
              "        vertical-align: top;\n",
              "    }\n",
              "\n",
              "    .dataframe thead th {\n",
              "        text-align: right;\n",
              "    }\n",
              "</style>\n",
              "<table border=\"1\" class=\"dataframe\">\n",
              "  <thead>\n",
              "    <tr style=\"text-align: right;\">\n",
              "      <th></th>\n",
              "      <th>geo</th>\n",
              "      <th>time</th>\n",
              "      <th>cell_phones_total</th>\n",
              "      <th>population</th>\n",
              "      <th>country</th>\n",
              "      <th>ppp</th>\n",
              "    </tr>\n",
              "  </thead>\n",
              "  <tbody>\n",
              "    <tr>\n",
              "      <th>4805</th>\n",
              "      <td>kor</td>\n",
              "      <td>2019</td>\n",
              "      <td>68892541.0</td>\n",
              "      <td>51225308</td>\n",
              "      <td>South Korea</td>\n",
              "      <td>1.344893</td>\n",
              "    </tr>\n",
              "  </tbody>\n",
              "</table>\n",
              "</div>"
            ],
            "text/plain": [
              "      geo  time  cell_phones_total  population      country       ppp\n",
              "4805  kor  2019         68892541.0    51225308  South Korea  1.344893"
            ]
          },
          "metadata": {},
          "execution_count": 69
        }
      ]
    },
    {
      "cell_type": "markdown",
      "metadata": {
        "id": "j2xDq7MAKRjg"
      },
      "source": [
        "### 4. Data Manipulation\n",
        "\n",
        "각 나라별로 평균 PPP를 계산하세요."
      ]
    },
    {
      "cell_type": "code",
      "metadata": {
        "id": "AVQYb2q6Q4GH",
        "colab": {
          "base_uri": "https://localhost:8080/",
          "height": 450
        },
        "outputId": "fb7e7647-8b78-41f7-85ee-41716488e7c5"
      },
      "source": [
        "# df_dm = df_jd.melt(id_vars = 'geo', value_vars = ['매출액', '자산총계', 'EPS(원)']) # id_vars = 기준, variable = 합칠 특성 \n",
        "\n",
        "df_dm = df_jd.drop(df_jd.columns[0:4], axis=1)\n",
        "a = []    # 빈 리스트 생성\n",
        "b = []\n",
        "\n",
        "# for문이용해서 country명뽑아냄\n",
        "for i in range(len(df_dm.index)-1):             \n",
        "  if df_dm.loc[i, 'country'] != df_dm.loc[(i+1), 'country']:\n",
        "    columnsName = df_dm.loc[i, 'country']\n",
        "    a.append(columnsName)    # append로 요소 추가\n",
        "\n",
        "\n",
        "\n",
        "# df_four = pd.DataFrame(data = a, columns = ['country'])\n",
        "# df_four['ppp'] = 0\n",
        "# for i in range(len(df_dm.index)-1):\n",
        "#   if df_dm.loc[i, 'country'] == df_dm.loc[(i+1), 'country']:\n",
        "#     df_four.loc[i, df_dm.loc[i, 'ppp']] += df_dm.loc[i, 'ppp'] \n",
        "\n",
        "b = pd.DataFrame(a)\n",
        "b = df_jd.groupby('geo').mean()\n",
        "b"
      ],
      "execution_count": 215,
      "outputs": [
        {
          "output_type": "execute_result",
          "data": {
            "text/html": [
              "<div>\n",
              "<style scoped>\n",
              "    .dataframe tbody tr th:only-of-type {\n",
              "        vertical-align: middle;\n",
              "    }\n",
              "\n",
              "    .dataframe tbody tr th {\n",
              "        vertical-align: top;\n",
              "    }\n",
              "\n",
              "    .dataframe thead th {\n",
              "        text-align: right;\n",
              "    }\n",
              "</style>\n",
              "<table border=\"1\" class=\"dataframe\">\n",
              "  <thead>\n",
              "    <tr style=\"text-align: right;\">\n",
              "      <th></th>\n",
              "      <th>time</th>\n",
              "      <th>cell_phones_total</th>\n",
              "      <th>population</th>\n",
              "    </tr>\n",
              "    <tr>\n",
              "      <th>geo</th>\n",
              "      <th></th>\n",
              "      <th></th>\n",
              "      <th></th>\n",
              "    </tr>\n",
              "  </thead>\n",
              "  <tbody>\n",
              "    <tr>\n",
              "      <th>abw</th>\n",
              "      <td>1992.487805</td>\n",
              "      <td>3.865366e+04</td>\n",
              "      <td>7.814995e+04</td>\n",
              "    </tr>\n",
              "    <tr>\n",
              "      <th>afg</th>\n",
              "      <td>1995.000000</td>\n",
              "      <td>4.416223e+06</td>\n",
              "      <td>2.029233e+07</td>\n",
              "    </tr>\n",
              "    <tr>\n",
              "      <th>ago</th>\n",
              "      <td>1995.000000</td>\n",
              "      <td>3.246200e+06</td>\n",
              "      <td>1.579502e+07</td>\n",
              "    </tr>\n",
              "    <tr>\n",
              "      <th>alb</th>\n",
              "      <td>1995.000000</td>\n",
              "      <td>9.545948e+05</td>\n",
              "      <td>2.902446e+06</td>\n",
              "    </tr>\n",
              "    <tr>\n",
              "      <th>and</th>\n",
              "      <td>1995.000000</td>\n",
              "      <td>2.705677e+04</td>\n",
              "      <td>5.903456e+04</td>\n",
              "    </tr>\n",
              "    <tr>\n",
              "      <th>...</th>\n",
              "      <td>...</td>\n",
              "      <td>...</td>\n",
              "      <td>...</td>\n",
              "    </tr>\n",
              "    <tr>\n",
              "      <th>wsm</th>\n",
              "      <td>1992.906977</td>\n",
              "      <td>2.294947e+04</td>\n",
              "      <td>1.672190e+05</td>\n",
              "    </tr>\n",
              "    <tr>\n",
              "      <th>yem</th>\n",
              "      <td>1994.489362</td>\n",
              "      <td>3.403754e+06</td>\n",
              "      <td>1.539619e+07</td>\n",
              "    </tr>\n",
              "    <tr>\n",
              "      <th>zaf</th>\n",
              "      <td>1995.000000</td>\n",
              "      <td>2.244512e+07</td>\n",
              "      <td>4.056613e+07</td>\n",
              "    </tr>\n",
              "    <tr>\n",
              "      <th>zmb</th>\n",
              "      <td>1995.000000</td>\n",
              "      <td>2.680384e+06</td>\n",
              "      <td>9.792121e+06</td>\n",
              "    </tr>\n",
              "    <tr>\n",
              "      <th>zwe</th>\n",
              "      <td>1995.000000</td>\n",
              "      <td>2.730293e+06</td>\n",
              "      <td>1.052319e+07</td>\n",
              "    </tr>\n",
              "  </tbody>\n",
              "</table>\n",
              "<p>213 rows × 3 columns</p>\n",
              "</div>"
            ],
            "text/plain": [
              "            time  cell_phones_total    population\n",
              "geo                                              \n",
              "abw  1992.487805       3.865366e+04  7.814995e+04\n",
              "afg  1995.000000       4.416223e+06  2.029233e+07\n",
              "ago  1995.000000       3.246200e+06  1.579502e+07\n",
              "alb  1995.000000       9.545948e+05  2.902446e+06\n",
              "and  1995.000000       2.705677e+04  5.903456e+04\n",
              "..           ...                ...           ...\n",
              "wsm  1992.906977       2.294947e+04  1.672190e+05\n",
              "yem  1994.489362       3.403754e+06  1.539619e+07\n",
              "zaf  1995.000000       2.244512e+07  4.056613e+07\n",
              "zmb  1995.000000       2.680384e+06  9.792121e+06\n",
              "zwe  1995.000000       2.730293e+06  1.052319e+07\n",
              "\n",
              "[213 rows x 3 columns]"
            ]
          },
          "metadata": {},
          "execution_count": 215
        }
      ]
    },
    {
      "cell_type": "markdown",
      "metadata": {
        "id": "KXEmo_HdKy_5"
      },
      "source": [
        "가장 많은 PPP 값을 갖는 top 10 (geo) 를 구하세요.\n",
        "\n",
        "다음과 비슷한 결과가 나와야 합니다. \n",
        "\n",
        "|geo|PPP|\n",
        "|:-:|:-:|\n",
        "|are|0.741916|\n",
        "|sau|0.757034|\n",
        "|lie|0.806225|\n",
        "|hkg|0.810664|\n",
        "|mac|0.818130|\n",
        "|isr|0.840197|\n",
        "|srb|0.951586|\n",
        "|nld_curacao|1.259227|\n",
        "|mne|1.574349|\n",
        "|sxm|1.899506|\n"
      ]
    },
    {
      "cell_type": "code",
      "metadata": {
        "id": "NbCVBsBIK06K"
      },
      "source": [
        ""
      ],
      "execution_count": null,
      "outputs": []
    },
    {
      "cell_type": "markdown",
      "metadata": {
        "id": "RcBnaSW_LYSk"
      },
      "source": [
        "## EDA\n",
        "이번 파트에서는 **FiveThirtyEight's article, [Every Guest Jon Stewart Ever Had On ‘The Daily Show’](https://fivethirtyeight.com/features/every-guest-jon-stewart-ever-had-on-the-daily-show/)** 의 데이터를 다루게 됩니다.\n",
        "\n",
        "\n",
        "아래의 코드는 이미 여러분들을 위해 준비되어 있습니다. 아래 cell 을 실행하면 자동으로 data 가 load 되며, `df`라는 이름의 dataframe 을 얻게 될 겁니다. \n",
        "\n",
        "(원하신다면 추가 EDA를 하셔도 상관없지만, 이번 파트에서의 요구사항은 아닙니다.)\n"
      ]
    },
    {
      "cell_type": "code",
      "metadata": {
        "id": "pc7YmWvlLas5",
        "tags": [],
        "colab": {
          "base_uri": "https://localhost:8080/"
        },
        "outputId": "62573b70-ce58-4b95-c1a8-be53f792a842"
      },
      "source": [
        "%matplotlib inline\n",
        "import matplotlib.pyplot as plt\n",
        "import numpy as np\n",
        "import pandas as pd\n",
        "import seaborn as sns\n",
        "\n",
        "cable_news_url = 'https://raw.githubusercontent.com/fivethirtyeight/data/master/media-mentions-2020/cable_weekly.csv'\n",
        "online_news_url = 'https://raw.githubusercontent.com/fivethirtyeight/data/master/media-mentions-2020/online_weekly.csv'\n",
        "\n",
        "cable = pd.read_csv(cable_news_url)\n",
        "online = pd.read_csv(online_news_url)\n",
        "\n",
        "merged = pd.merge(cable[['date', 'name', 'pct_of_all_candidate_clips']], online[['date', 'name', 'pct_of_all_candidate_stories']])\n",
        "merged['date'] = pd.to_datetime(merged['date'], infer_datetime_format=True)\n",
        "merged = merged.set_index('date')\n",
        "\n",
        "unique_dates = list(set(merged.index.to_list()))\n",
        "\n",
        "import datetime\n",
        "\n",
        "joe_biden_cable_multiple = []\n",
        "joe_biden_online_multiple = []\n",
        "\n",
        "for date in unique_dates:\n",
        "  #that_day = merged.loc[datetime.date(year=date.year, month=date.month, day=date.day)]\n",
        "  str_date = str(date.year)+\"-\"+str(date.month) + \"-\" + str(date.day)\n",
        "  that_day = merged.loc[str_date]\n",
        "\n",
        "  joe_biden_cable_that_day = that_day[that_day['name']==\"Joe Biden\"]['pct_of_all_candidate_clips']\n",
        "  not_joe_biden_cable_max = that_day[that_day['name']!=\"Joe Biden\"]['pct_of_all_candidate_clips'].max()\n",
        "  joe_biden_cable_multiple_of_max = joe_biden_cable_that_day / not_joe_biden_cable_max\n",
        "\n",
        "  joe_biden_online_that_day = that_day[that_day['name']==\"Joe Biden\"]['pct_of_all_candidate_stories']\n",
        "  not_joe_biden_online_max = that_day[that_day['name']!=\"Joe Biden\"]['pct_of_all_candidate_stories'].max()\n",
        "  joe_biden_online_multiple_of_max = joe_biden_online_that_day / not_joe_biden_online_max\n",
        "\n",
        "\n",
        "  joe_biden_cable_multiple.append(joe_biden_cable_multiple_of_max.values[0])\n",
        "  joe_biden_online_multiple.append(joe_biden_online_multiple_of_max.values[0])\n",
        "\n",
        "df = pd.DataFrame({'date': unique_dates, 'biden_cable_multiple':joe_biden_cable_multiple, 'biden_online_multiple': joe_biden_online_multiple})\n",
        "df = df.set_index('date')\n",
        "df = df.sort_index()\n",
        "\n",
        "data_for_graph = df.loc[datetime.date(2019, 4, 15):]\n",
        "print(data_for_graph.shape)\n",
        "data_for_graph.head()\n",
        "print(df)"
      ],
      "execution_count": 114,
      "outputs": [
        {
          "output_type": "stream",
          "name": "stdout",
          "text": [
            "(27, 2)\n",
            "            biden_cable_multiple  biden_online_multiple\n",
            "date                                                   \n",
            "2018-12-30              0.245492               0.356659\n",
            "2019-01-06              0.431604               0.492401\n",
            "2019-01-13              0.990476               0.360000\n",
            "2019-01-20              0.423497               0.440758\n",
            "2019-01-27              0.204420               0.274752\n",
            "2019-02-03              0.276596               0.334471\n",
            "2019-02-10              0.375824               0.335766\n",
            "2019-02-17              0.305101               0.331754\n",
            "2019-02-24              0.426205               0.316879\n",
            "2019-03-03              0.844530               0.425787\n",
            "2019-03-10              0.691954               0.652755\n",
            "2019-03-17              1.006897               0.632721\n",
            "2019-03-24              1.258824               0.784211\n",
            "2019-03-31              4.882033               1.783109\n",
            "2019-04-07              0.692771               0.477987\n",
            "2019-04-14              0.501031               0.377119\n",
            "2019-04-21              3.087352               1.107492\n",
            "2019-04-28              3.707641               1.295820\n",
            "2019-05-05              2.805169               1.306122\n",
            "2019-05-12              3.235849               1.045386\n",
            "2019-05-19              2.494624               1.119588\n",
            "2019-05-26              3.684211               1.566434\n",
            "2019-06-02              4.120773               1.268581\n",
            "2019-06-09              2.955257               1.340233\n",
            "2019-06-16              3.574713               1.687805\n",
            "2019-06-23              2.258354               1.072789\n",
            "2019-06-30              1.168615               1.034346\n",
            "2019-07-07              2.218236               1.296041\n",
            "2019-07-14              1.565041               0.936975\n",
            "2019-07-21              1.855072               0.938650\n",
            "2019-07-28              1.988069               1.033973\n",
            "2019-08-04              1.868519               1.173984\n",
            "2019-08-11              1.592424               0.913628\n",
            "2019-08-18              1.889323               0.847244\n",
            "2019-08-25              2.046753               1.095238\n",
            "2019-09-01              2.231672               1.068441\n",
            "2019-09-08              1.669750               1.055731\n",
            "2019-09-15              2.601589               1.067506\n",
            "2019-09-22              4.558233               4.649776\n",
            "2019-09-29              4.980180               3.402359\n",
            "2019-10-06              3.260229               2.545723\n",
            "2019-10-13              1.676190               1.406303\n",
            "2019-10-20              1.726508               1.552770\n"
          ]
        }
      ]
    },
    {
      "cell_type": "markdown",
      "metadata": {
        "id": "UthoeNABLwau"
      },
      "source": [
        "아래의 그림을 따라 그리세요 :\n",
        "\n",
        "<img src='https://fivethirtyeight.com/wp-content/uploads/2019/10/Mehta-Media1028-1028-1.png' width = 500>\n"
      ]
    },
    {
      "cell_type": "markdown",
      "metadata": {
        "id": "WEHUhxlTL2w2"
      },
      "source": [
        "\n",
        "여러분들이 새로 만들게 될 plot은 다음을 만족해야 합니다:\n",
        "- `example`과 유사한 `Cable News` vs `Online News` 2개의 line graph가 보여야 합니다. \n",
        "- 각 라인은 각각 **다른** 색깔을 가져야 합니다. (위 `example` 과 반드시 같은 색일 필요는 없습니다)\n",
        "- 타이틀을 다음 내용으로 만드세요. _\"Biden's Ukraine-related media bump is fading\"_\n"
      ]
    },
    {
      "cell_type": "code",
      "metadata": {
        "id": "J-T3IU__L0ih",
        "colab": {
          "base_uri": "https://localhost:8080/",
          "height": 321
        },
        "outputId": "af24596c-9418-4a1c-c96b-6ffff704b6c8"
      },
      "source": [
        "# Line Graph by matplotlib with wide-form DataFrame\n",
        "plt.plot(df['biden_cable_multiple'], marker=None, color='r')\n",
        "plt.plot(df['biden_online_multiple'], marker=None, color='b')\n",
        "\n",
        "plt.title('Biden\\'s Ukraine-related media bump is fading', fontsize=20) \n",
        "plt.ylabel('Data', fontsize=14)\n",
        "plt.xlabel('Date', fontsize=14)\n",
        "plt.legend(fontsize=12, loc='best')\n",
        "plt.show()\n"
      ],
      "execution_count": 120,
      "outputs": [
        {
          "output_type": "stream",
          "name": "stderr",
          "text": [
            "No handles with labels found to put in legend.\n"
          ]
        },
        {
          "output_type": "display_data",
          "data": {
            "image/png": "[encoded data removed]",
            "text/plain": [
              "<Figure size 432x288 with 1 Axes>"
            ]
          },
          "metadata": {
            "needs_background": "light"
          }
        }
      ]
    },
    {
      "cell_type": "markdown",
      "metadata": {
        "id": "svbK28PWNCic"
      },
      "source": [
        "## SC 3점 요구사항:\n",
        "\n",
        "위에서 요구된 사항들을 모두 정확하게 만족하였으며, 아직 시간이 남았다면 아래 2개의 내용들중 하나를 만족하는 경우 3점을 얻을 수 있습니다. \n",
        "\n",
        "아래 요구사항들은 모두 **optional** 임을 다시 한 번 강조합니다. (필수 요구사항이 아닙니다.)\n",
        "\n",
        "## 1. Data Preprocessing\n",
        "\n",
        "- `cell_phones`dataframe 에서 필터를 걸어 USA 와 china 정보만 담게 하고, scatter plot 을 다시 그려 보세요. \n",
        "\n",
        "- geo code 를 lowercase가 아닌 uppercase 로 바꿔보세요. \n",
        "\n",
        "- 2017년은 China가 people(인구수)보다 cell phone 개수가 더 많아지는 첫번째 년도 입니다. \n",
        "미국의 경우, cell phone의 개수가 people 보다 더 많아지는 첫번째 년도는 언제인가요?\n",
        "\n",
        "## 2. EDA\n",
        "\n",
        "- 주어진 fivethirtyeight 그림 차트와 완벽히 동일하게 그려보세요. \n"
      ]
    },
    {
      "cell_type": "code",
      "metadata": {
        "id": "tkayYpKa_bcW",
        "colab": {
          "base_uri": "https://localhost:8080/"
        },
        "outputId": "2b9a7b07-6d8b-40a1-9012-7aa20325ab47"
      },
      "source": [
        "df_usa = df_jd[df_jd['country'] == 'United States']\n",
        "df_chn = df_jd[df_jd['country'] == 'China']\n",
        "fivethirtyeight = pd.concat([df_usa, df_chn])\n",
        "\n",
        "# # 빈 리스트 생성\n",
        "# a_US = []\n",
        "# a_CHN = []\n",
        "\n",
        "# # 리스트에 cellphonetotal채우기\n",
        "# for i in range(len(fivethirtyeight.index)):\n",
        "#   if fivethirtyeight.iloc[i]['country'] == 'United States':\n",
        "#     a_US.append(fivethirtyeight.iloc[i]['cell_phones_total'])\n",
        "#   elif fivethirtyeight.iloc[i]['country'] == 'China':\n",
        "#     a_CHN.append(fivethirtyeight.iloc[i]['cell_phones_total'])\n",
        "# #plot생성\n",
        "# plt.plot(a_US,marker=None, color='r')\n",
        "# plt.plot(a_CHN, marker=None, color='b')\n",
        "# plt.ylabel('cell_phones_total', fontsize=14)\n",
        "# plt.xlabel('Date', fontsize=14)\n",
        "# plt.show()\n",
        "\n",
        "#geo code를 lowercase가 아닌 uppercase 로 바꿔보세요.\n",
        "# fivethirtyeight.sort_values(by=['geo'], axis=0)\n",
        "\n",
        "#미국의 경우, cell phone의 개수가 people 보다 더 많아지는 첫번째 년도는 언제인가요? A = 2014\n",
        "for i in range(len(df_usa.index)):\n",
        "  if df_usa.iloc[i]['cell_phones_total'] > df_usa.iloc[i]['population']:\n",
        "    print(df_usa.iloc[i]['time'])"
      ],
      "execution_count": 170,
      "outputs": [
        {
          "output_type": "stream",
          "name": "stdout",
          "text": [
            "2014\n",
            "2015\n",
            "2016\n",
            "2017\n",
            "2018\n"
          ]
        }
      ]
    }
  ]
}